{
 "cells": [
  {
   "cell_type": "code",
   "execution_count": 1,
   "metadata": {},
   "outputs": [
    {
     "name": "stderr",
     "output_type": "stream",
     "text": [
      "Using TensorFlow backend.\n"
     ]
    }
   ],
   "source": [
    "import os\n",
    "import cv2\n",
    "import glob\n",
    "import numpy as np\n",
    "from keras.models import *\n",
    "from keras.layers import *\n",
    "from keras.applications import *\n",
    "from keras.preprocessing.image import *"
   ]
  },
  {
   "cell_type": "code",
   "execution_count": 2,
   "metadata": {},
   "outputs": [
    {
     "name": "stdout",
     "output_type": "stream",
     "text": [
      "-------- loading train data\n",
      "loding /input/train/c0, image count=1707\n",
      "loding /input/train/c1, image count=2113\n",
      "loding /input/train/c2, image count=868\n",
      "loding /input/train/c3, image count=1691\n",
      "loding /input/train/c4, image count=1805\n",
      "loding /input/train/c5, image count=1976\n",
      "loding /input/train/c6, image count=1728\n",
      "loding /input/train/c7, image count=1300\n",
      "loding /input/train/c8, image count=722\n",
      "loding /input/train/c9, image count=1596\n",
      "-------- loading valid data\n",
      "loding /input/valid/c0, image count=92\n",
      "loding /input/valid/c1, image count=158\n",
      "loding /input/valid/c2, image count=247\n",
      "loding /input/valid/c3, image count=345\n",
      "loding /input/valid/c4, image count=388\n",
      "loding /input/valid/c5, image count=364\n",
      "loding /input/valid/c6, image count=328\n",
      "loding /input/valid/c7, image count=298\n",
      "loding /input/valid/c8, image count=108\n",
      "loding /input/valid/c9, image count=316\n"
     ]
    }
   ],
   "source": [
    "basedir = \"/input/\"\n",
    "model_image_size = 224\n",
    "\n",
    "print(\"-------- loading train data\")\n",
    "X_train = list()\n",
    "y_train = list()\n",
    "for i in range(10):\n",
    "    dir = os.path.join(basedir, \"train\", \"c%d\"%i)\n",
    "    image_files = glob.glob(os.path.join(dir,\"*.jpg\")) #返回F:\\pose_recognication\\data\\train\\ci文件夹中所有以jpg结尾的文件的路径\n",
    "    print(\"loding {}, image count={}\".format(dir, len(image_files)))\n",
    "   #data_files=glob.glob(\"data/*.txt\")\n",
    "\n",
    "#         glob.glob()返回的是列表 list类型。是所有路径下的符合条件的文件名的列表。\n",
    "\n",
    "#        此例中参数为相对路径，指simple_httpd.py  web服务器当前目录下的data文件夹下的所有txt文件。\n",
    "\n",
    "#        也可以为绝对路径\n",
    "    for image_file in image_files:\n",
    "        image = cv2.imread(image_file)\n",
    "        X_train.append(cv2.resize(image, (model_image_size, model_image_size)))\n",
    "        label = np.zeros(10, dtype=np.uint8)\n",
    "        label[i]=1\n",
    "        y_train.append(label)\n",
    "X_train = np.array(X_train)\n",
    "y_train = np.array(y_train)\n",
    "        \n",
    "print(\"-------- loading valid data\")\n",
    "X_valid = list()\n",
    "y_valid = list()\n",
    "for i in range(10):\n",
    "    dir = os.path.join(basedir, \"valid\", \"c%d\"%i)\n",
    "    image_files = glob.glob(os.path.join(dir,\"*.jpg\"))\n",
    "    print(\"loding {}, image count={}\".format(dir, len(image_files)))\n",
    "    for image_file in image_files:\n",
    "        image = cv2.imread(image_file)\n",
    "        X_valid.append(cv2.resize(image, (model_image_size, model_image_size)))\n",
    "        label = np.zeros(10, dtype=np.uint8)\n",
    "        label[i]=1\n",
    "        y_valid.append(label)\n",
    "X_valid = np.array(X_valid)\n",
    "y_valid = np.array(y_valid)"
   ]
  },
  {
   "cell_type": "code",
   "execution_count": 3,
   "metadata": {},
   "outputs": [
    {
     "name": "stdout",
     "output_type": "stream",
     "text": [
      "(15506, 224, 224, 3)\n",
      "(15506, 10)\n",
      "(2644, 224, 224, 3)\n",
      "(2644, 10)\n"
     ]
    }
   ],
   "source": [
    "print(X_train.shape)\n",
    "print(y_train.shape)\n",
    "print(X_valid.shape)\n",
    "print(y_valid.shape)"
   ]
  },
  {
   "cell_type": "code",
   "execution_count": 4,
   "metadata": {},
   "outputs": [
    {
     "name": "stderr",
     "output_type": "stream",
     "text": [
      "/usr/local/miniconda3/envs/dl/lib/python3.6/site-packages/keras_applications/resnet50.py:265: UserWarning: The output shape of `ResNet50(include_top=False)` has been changed since Keras 2.2.0.\n",
      "  warnings.warn('The output shape of `ResNet50(include_top=False)` '\n"
     ]
    },
    {
     "name": "stdout",
     "output_type": "stream",
     "text": [
      "done\n"
     ]
    }
   ],
   "source": [
    "base_model = ResNet50(input_tensor=Input((model_image_size, model_image_size, 3)), weights='imagenet', include_top=False)\n",
    "\n",
    "\n",
    "\n",
    "x = GlobalAveragePooling2D()(base_model.output)\n",
    "x = Dropout(0.25)(x)\n",
    "x = Dense(10, activation='softmax')(x)\n",
    "model = Model(base_model.input, x)\n",
    "model.compile(optimizer='adadelta', loss='binary_crossentropy', metrics=['accuracy'])\n",
    "\n",
    "#     model.compile(optimizer='adam', loss='sparse_categorical_crossentropy', metrics=['accuracy'])\n",
    "print(\"done\")"
   ]
  },
  {
   "cell_type": "code",
   "execution_count": 5,
   "metadata": {},
   "outputs": [
    {
     "name": "stdout",
     "output_type": "stream",
     "text": [
      "Train on 15506 samples, validate on 2644 samples\n",
      "Epoch 1/2\n",
      "15506/15506 [==============================] - 449s 29ms/step - loss: 0.0101 - acc: 0.9968 - val_loss: 0.0870 - val_acc: 0.9696\n",
      "Epoch 2/2\n",
      "15506/15506 [==============================] - 436s 28ms/step - loss: 6.5798e-05 - acc: 1.0000 - val_loss: 0.0676 - val_acc: 0.9718\n"
     ]
    },
    {
     "data": {
      "text/plain": [
       "<keras.callbacks.History at 0x7f18420c3cc0>"
      ]
     },
     "execution_count": 5,
     "metadata": {},
     "output_type": "execute_result"
    }
   ],
   "source": [
    "model.fit(X_train, y_train, batch_size=4, epochs=2, validation_data=(X_valid, y_valid))"
   ]
  },
  {
   "cell_type": "code",
   "execution_count": 6,
   "metadata": {},
   "outputs": [
    {
     "name": "stdout",
     "output_type": "stream",
     "text": [
      "model saved!\n"
     ]
    }
   ],
   "source": [
    "model.save(\"/data/Resnet50-notfinetune-98.h5\")\n",
    "print(\"model saved!\")"
   ]
  },
  {
   "cell_type": "code",
   "execution_count": null,
   "metadata": {},
   "outputs": [],
   "source": []
  },
  {
   "cell_type": "code",
   "execution_count": null,
   "metadata": {},
   "outputs": [],
   "source": []
  }
 ],
 "metadata": {
  "kernelspec": {
   "display_name": "Python 3",
   "language": "python",
   "name": "python3"
  },
  "language_info": {
   "codemirror_mode": {
    "name": "ipython",
    "version": 3
   },
   "file_extension": ".py",
   "mimetype": "text/x-python",
   "name": "python",
   "nbconvert_exporter": "python",
   "pygments_lexer": "ipython3",
   "version": "3.6.5"
  }
 },
 "nbformat": 4,
 "nbformat_minor": 2
}
