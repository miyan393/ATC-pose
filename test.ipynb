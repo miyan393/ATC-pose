{
 "cells": [
  {
   "cell_type": "code",
   "execution_count": 1,
   "metadata": {},
   "outputs": [
    {
     "name": "stderr",
     "output_type": "stream",
     "text": [
      "D:\\anaconda\\lib\\site-packages\\h5py\\__init__.py:36: FutureWarning: Conversion of the second argument of issubdtype from `float` to `np.floating` is deprecated. In future, it will be treated as `np.float64 == np.dtype(float).type`.\n",
      "  from ._conv import register_converters as _register_converters\n",
      "Using TensorFlow backend.\n"
     ]
    }
   ],
   "source": [
    "import os\n",
    "import cv2\n",
    "import glob\n",
    "import numpy as np\n",
    "from keras.models import *\n",
    "from keras.layers import *\n",
    "from keras.applications import *\n",
    "from keras.preprocessing.image import *"
   ]
  },
  {
   "cell_type": "code",
   "execution_count": 2,
   "metadata": {},
   "outputs": [
    {
     "name": "stdout",
     "output_type": "stream",
     "text": [
      "-------- loading test data\n",
      "loding F:\\pose_recognication\\data\\test\\c0, image count=92\n",
      "loding F:\\pose_recognication\\data\\test\\c1, image count=158\n",
      "loding F:\\pose_recognication\\data\\test\\c2, image count=247\n",
      "loding F:\\pose_recognication\\data\\test\\c3, image count=342\n",
      "loding F:\\pose_recognication\\data\\test\\c4, image count=388\n",
      "loding F:\\pose_recognication\\data\\test\\c5, image count=364\n",
      "loding F:\\pose_recognication\\data\\test\\c6, image count=328\n",
      "loding F:\\pose_recognication\\data\\test\\c7, image count=298\n",
      "loding F:\\pose_recognication\\data\\test\\c8, image count=108\n",
      "loding F:\\pose_recognication\\data\\test\\c9, image count=316\n"
     ]
    }
   ],
   "source": [
    "basedir = r'F:\\pose_recognication\\data'\n",
    "#basedir = \"/input/\"\n",
    "model_image_size = 224\n",
    "\n",
    "print(\"-------- loading test data\")\n",
    "\n",
    "for i in range(10):\n",
    "    dir = os.path.join(basedir, \"test\", \"c%d\"%i)\n",
    "    image_files = glob.glob(os.path.join(dir,\"*.jpg\")) #返回F:\\pose_recognication\\data\\train\\ci文件夹中所有以jpg结尾的文件的路径\n",
    "    print(\"loding {}, image count={}\".format(dir, len(image_files)))\n",
    "    \n",
    "    exec (\"X_test%s=[]\"%i)\n",
    "    exec (\"y_test%s=[]\"%i)\n",
    "    for image_file in image_files:\n",
    "        image = cv2.imread(image_file)\n",
    "        exec (\"X_test%s.append(cv2.resize(image, (model_image_size, model_image_size)))\"%i)\n",
    "        label = np.zeros(10, dtype=np.uint8)\n",
    "        label[i]=1\n",
    "        \n",
    "        exec(\"y_test%s.append(label)\"%i)\n",
    "    exec (\"X_test%s=np.array(X_test%s)\"%(i,i))\n",
    "    exec (\"y_test%s=np.array(y_test%s)\"%(i,i))\n",
    "\n",
    "\n"
   ]
  },
  {
   "cell_type": "code",
   "execution_count": 3,
   "metadata": {},
   "outputs": [
    {
     "name": "stdout",
     "output_type": "stream",
     "text": [
      "(92, 224, 224, 3)\n",
      "(92, 10)\n",
      "(158, 224, 224, 3)\n",
      "(158, 10)\n",
      "(247, 224, 224, 3)\n",
      "(247, 10)\n",
      "(342, 224, 224, 3)\n",
      "(342, 10)\n",
      "(388, 224, 224, 3)\n",
      "(388, 10)\n",
      "(364, 224, 224, 3)\n",
      "(364, 10)\n",
      "(328, 224, 224, 3)\n",
      "(328, 10)\n",
      "(298, 224, 224, 3)\n",
      "(298, 10)\n",
      "(108, 224, 224, 3)\n",
      "(108, 10)\n",
      "(316, 224, 224, 3)\n",
      "(316, 10)\n"
     ]
    }
   ],
   "source": [
    "print (X_test0.shape)\n",
    "print (y_test0.shape)\n",
    "print (X_test1.shape)\n",
    "print (y_test1.shape)\n",
    "print (X_test2.shape)\n",
    "print (y_test2.shape)\n",
    "print (X_test3.shape)\n",
    "print (y_test3.shape)\n",
    "print (X_test4.shape)\n",
    "print (y_test4.shape)\n",
    "print (X_test5.shape)\n",
    "print (y_test5.shape)\n",
    "print (X_test6.shape)\n",
    "print (y_test6.shape)\n",
    "print (X_test7.shape)\n",
    "print (y_test7.shape)\n",
    "print (X_test8.shape)\n",
    "print (y_test8.shape)\n",
    "print (X_test9.shape)\n",
    "print (y_test9.shape)"
   ]
  },
  {
   "cell_type": "code",
   "execution_count": 4,
   "metadata": {},
   "outputs": [],
   "source": [
    "model = load_model(r\"F:\\pose_recognication\\Resnet50-notfinetune-98.h5\")"
   ]
  },
  {
   "cell_type": "code",
   "execution_count": 5,
   "metadata": {},
   "outputs": [
    {
     "name": "stdout",
     "output_type": "stream",
     "text": [
      "92/92 [==============================] - 64s 692ms/step\n"
     ]
    },
    {
     "data": {
      "text/plain": [
       "[0.4470013535541037, 0.8065217759298242]"
      ]
     },
     "execution_count": 5,
     "metadata": {},
     "output_type": "execute_result"
    }
   ],
   "source": [
    "model.evaluate(X_test0,y_test0,verbose=1, )"
   ]
  },
  {
   "cell_type": "code",
   "execution_count": 6,
   "metadata": {},
   "outputs": [
    {
     "name": "stdout",
     "output_type": "stream",
     "text": [
      "158/158 [==============================] - 103s 654ms/step\n"
     ]
    },
    {
     "data": {
      "text/plain": [
       "[3.4734499059837455e-07, 1.0]"
      ]
     },
     "execution_count": 6,
     "metadata": {},
     "output_type": "execute_result"
    }
   ],
   "source": [
    "model.evaluate(X_test1,y_test1,verbose=1 )"
   ]
  },
  {
   "cell_type": "code",
   "execution_count": 7,
   "metadata": {},
   "outputs": [
    {
     "name": "stdout",
     "output_type": "stream",
     "text": [
      "247/247 [==============================] - 153s 620ms/step\n",
      "342/342 [==============================] - 230s 671ms/step\n"
     ]
    },
    {
     "data": {
      "text/plain": [
       "[0.05114421531245213, 0.9780701754385965]"
      ]
     },
     "execution_count": 7,
     "metadata": {},
     "output_type": "execute_result"
    }
   ],
   "source": [
    "model.evaluate(X_test2,y_test2,verbose=1 )\n",
    "model.evaluate(X_test3,y_test3,verbose=1 )"
   ]
  },
  {
   "cell_type": "code",
   "execution_count": 8,
   "metadata": {},
   "outputs": [
    {
     "name": "stdout",
     "output_type": "stream",
     "text": [
      "C4的准确率\n",
      "388/388 [==============================] - 249s 641ms/step\n"
     ]
    },
    {
     "data": {
      "text/plain": [
       "[0.00010814784636943503, 1.0]"
      ]
     },
     "execution_count": 8,
     "metadata": {},
     "output_type": "execute_result"
    }
   ],
   "source": [
    "print(\"C4的准确率\")\n",
    "model.evaluate(X_test4,y_test4,verbose=1 )"
   ]
  },
  {
   "cell_type": "code",
   "execution_count": 9,
   "metadata": {},
   "outputs": [
    {
     "name": "stdout",
     "output_type": "stream",
     "text": [
      "C5的准确率\n",
      "364/364 [==============================] - 245s 674ms/step\n"
     ]
    },
    {
     "data": {
      "text/plain": [
       "[0.284221215398757, 0.8703296570987492]"
      ]
     },
     "execution_count": 9,
     "metadata": {},
     "output_type": "execute_result"
    }
   ],
   "source": [
    "print(\"C5的准确率\")\n",
    "model.evaluate(X_test5,y_test5,verbose=1 )"
   ]
  },
  {
   "cell_type": "code",
   "execution_count": 10,
   "metadata": {},
   "outputs": [
    {
     "name": "stdout",
     "output_type": "stream",
     "text": [
      "C6的准确率\n",
      "328/328 [==============================] - 211s 644ms/step\n"
     ]
    },
    {
     "data": {
      "text/plain": [
       "[0.00025498924182235295, 1.0]"
      ]
     },
     "execution_count": 10,
     "metadata": {},
     "output_type": "execute_result"
    }
   ],
   "source": [
    "print(\"C6的准确率\")\n",
    "model.evaluate(X_test6,y_test6,verbose=1 )"
   ]
  },
  {
   "cell_type": "code",
   "execution_count": 11,
   "metadata": {},
   "outputs": [
    {
     "name": "stdout",
     "output_type": "stream",
     "text": [
      "C7的准确率\n",
      "298/298 [==============================] - 195s 653ms/step\n"
     ]
    },
    {
     "data": {
      "text/plain": [
       "[0.017177651155014965, 0.9986577194009051]"
      ]
     },
     "execution_count": 11,
     "metadata": {},
     "output_type": "execute_result"
    }
   ],
   "source": [
    "print(\"C7的准确率\")\n",
    "model.evaluate(X_test7,y_test7,verbose=1 )"
   ]
  },
  {
   "cell_type": "code",
   "execution_count": 12,
   "metadata": {},
   "outputs": [
    {
     "name": "stdout",
     "output_type": "stream",
     "text": [
      "C8的准确率\n",
      "108/108 [==============================] - 68s 632ms/step\n"
     ]
    },
    {
     "data": {
      "text/plain": [
       "[4.7284576280785755e-07, 1.0]"
      ]
     },
     "execution_count": 12,
     "metadata": {},
     "output_type": "execute_result"
    }
   ],
   "source": [
    "print(\"C8的准确率\")\n",
    "model.evaluate(X_test8,y_test8,verbose=1 )"
   ]
  },
  {
   "cell_type": "code",
   "execution_count": 13,
   "metadata": {},
   "outputs": [
    {
     "name": "stdout",
     "output_type": "stream",
     "text": [
      "C9的准确率\n",
      "316/316 [==============================] - 205s 650ms/step\n"
     ]
    },
    {
     "data": {
      "text/plain": [
       "[0.02255058353413132, 1.0]"
      ]
     },
     "execution_count": 13,
     "metadata": {},
     "output_type": "execute_result"
    }
   ],
   "source": [
    "print(\"C9的准确率\")\n",
    "model.evaluate(X_test9,y_test9,verbose=1 )"
   ]
  },
  {
   "cell_type": "code",
   "execution_count": 14,
   "metadata": {},
   "outputs": [
    {
     "name": "stdout",
     "output_type": "stream",
     "text": [
      "C3的准确率\n",
      "342/342 [==============================] - 227s 665ms/step\n"
     ]
    },
    {
     "data": {
      "text/plain": [
       "[0.05114421531245213, 0.9780701754385965]"
      ]
     },
     "execution_count": 14,
     "metadata": {},
     "output_type": "execute_result"
    }
   ],
   "source": [
    "print(\"C3的准确率\")\n",
    "model.evaluate(X_test3,y_test3,verbose=1 )"
   ]
  },
  {
   "cell_type": "code",
   "execution_count": 1,
   "metadata": {},
   "outputs": [
    {
     "data": {
      "text/plain": [
       "907.0"
      ]
     },
     "execution_count": 1,
     "metadata": {},
     "output_type": "execute_result"
    }
   ],
   "source": [
    "85.3++ 93.7+ 89.5 +94.3 + 88.1 + 89.1+ 93.2+ 92.1 + 91.9+ 89.8\n"
   ]
  },
  {
   "cell_type": "code",
   "execution_count": 3,
   "metadata": {},
   "outputs": [
    {
     "data": {
      "text/plain": [
       "91.8"
      ]
     },
     "execution_count": 3,
     "metadata": {},
     "output_type": "execute_result"
    }
   ],
   "source": [
    "86.7\n",
    "+95.3\n",
    "+87.8\n",
    "+95.9\n",
    "+86.9\n",
    "+87.1\n",
    "+94.8\n",
    "+95.4\n",
    "+93.7\n",
    "+94.3\n",
    "+91.8\n"
   ]
  },
  {
   "cell_type": "code",
   "execution_count": null,
   "metadata": {},
   "outputs": [],
   "source": []
  }
 ],
 "metadata": {
  "kernelspec": {
   "display_name": "Python 3",
   "language": "python",
   "name": "python3"
  },
  "language_info": {
   "codemirror_mode": {
    "name": "ipython",
    "version": 3
   },
   "file_extension": ".py",
   "mimetype": "text/x-python",
   "name": "python",
   "nbconvert_exporter": "python",
   "pygments_lexer": "ipython3",
   "version": "3.6.5"
  }
 },
 "nbformat": 4,
 "nbformat_minor": 2
}
